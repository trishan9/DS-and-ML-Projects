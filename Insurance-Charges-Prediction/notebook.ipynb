{
 "cells": [
  {
   "cell_type": "markdown",
   "id": "6918e18a-c248-4929-b552-7aee2057c0eb",
   "metadata": {
    "collapsed": false,
    "jupyter": {
     "outputs_hidden": false,
     "source_hidden": false
    }
   },
   "source": [
    "![](image.jpg)\n",
    "\n",
    "\n",
    "Dive into the heart of data science with a project that combines healthcare insights and predictive analytics. As a Data Scientist at a top Health Insurance company, you have the opportunity to predict customer healthcare costs using the power of machine learning. Your insights will help tailor services and guide customers in planning their healthcare expenses more effectively.\n",
    "\n",
    "## Dataset Summary\n",
    "\n",
    "Meet your primary tool: the `insurance.csv` dataset. Packed with information on health insurance customers, this dataset is your key to unlocking patterns in healthcare costs. Here's what you need to know about the data you'll be working with:\n",
    "\n",
    "## insurance.csv\n",
    "| Column    | Data Type | Description                                                      |\n",
    "|-----------|-----------|------------------------------------------------------------------|\n",
    "| `age`       | int       | Age of the primary beneficiary.                                  |\n",
    "| `sex`       | object    | Gender of the insurance contractor (male or female).             |\n",
    "| `bmi`       | float     | Body mass index, a key indicator of body fat based on height and weight. |\n",
    "| `children`  | int       | Number of dependents covered by the insurance plan.              |\n",
    "| `smoker`    | object    | Indicates whether the beneficiary smokes (yes or no).            |\n",
    "| `region`    | object    | The beneficiary's residential area in the US, divided into four regions. |\n",
    "| `charges`   | float     | Individual medical costs billed by health insurance.             |\n",
    "\n",
    "\n",
    "\n",
    "A bit of data cleaning is key to ensure the dataset is ready for modeling. Once your model is built using the `insurance.csv` dataset, the next step is to apply it to the `validation_dataset.csv`. This new dataset, similar to your training data minus the `charges` column, tests your model's accuracy and real-world utility by predicting costs for new customers.\n",
    "\n",
    "## Let's Get Started!\n",
    "\n",
    "This project is your playground for applying data science in a meaningful way, offering insights that have real-world applications. Ready to explore the data and uncover insights that could revolutionize healthcare planning? Let's begin this exciting journey!"
   ]
  },
  {
   "cell_type": "code",
   "execution_count": 1,
   "id": "81a07c66-a3d4-4fdd-9c3c-7b3a19b80d62",
   "metadata": {
    "executionCancelledAt": null,
    "executionTime": 31,
    "lastExecutedAt": 1735109522437,
    "lastExecutedByKernel": "8886d8c7-8940-491d-8b06-4a75ef2b6ee0",
    "lastScheduledRunId": null,
    "lastSuccessfullyExecutedCode": "# Re-run this cell\n# Import required libraries\nimport pandas as pd\nimport numpy as np\nfrom sklearn.preprocessing import StandardScaler\nfrom sklearn.model_selection import cross_val_score\n\n# Loading the insurance dataset\ninsurance_data_path = 'insurance.csv'\ninsurance = pd.read_csv(insurance_data_path)\ninsurance.head()",
    "outputsMetadata": {
     "0": {
      "height": 550,
      "tableState": {
       "quickFilterText": "",
       "sort": {
        "sortModel": [
         {
          "colId": "charges",
          "sort": "desc"
         }
        ]
       }
      },
      "type": "dataFrame"
     }
    }
   },
   "outputs": [
    {
     "data": {
      "text/html": [
       "<div>\n",
       "<style scoped>\n",
       "    .dataframe tbody tr th:only-of-type {\n",
       "        vertical-align: middle;\n",
       "    }\n",
       "\n",
       "    .dataframe tbody tr th {\n",
       "        vertical-align: top;\n",
       "    }\n",
       "\n",
       "    .dataframe thead th {\n",
       "        text-align: right;\n",
       "    }\n",
       "</style>\n",
       "<table border=\"1\" class=\"dataframe\">\n",
       "  <thead>\n",
       "    <tr style=\"text-align: right;\">\n",
       "      <th></th>\n",
       "      <th>age</th>\n",
       "      <th>sex</th>\n",
       "      <th>bmi</th>\n",
       "      <th>children</th>\n",
       "      <th>smoker</th>\n",
       "      <th>region</th>\n",
       "      <th>charges</th>\n",
       "    </tr>\n",
       "  </thead>\n",
       "  <tbody>\n",
       "    <tr>\n",
       "      <th>1333</th>\n",
       "      <td>50.0</td>\n",
       "      <td>male</td>\n",
       "      <td>30.97</td>\n",
       "      <td>3.0</td>\n",
       "      <td>no</td>\n",
       "      <td>Northwest</td>\n",
       "      <td>$10600.5483</td>\n",
       "    </tr>\n",
       "    <tr>\n",
       "      <th>1334</th>\n",
       "      <td>-18.0</td>\n",
       "      <td>female</td>\n",
       "      <td>31.92</td>\n",
       "      <td>0.0</td>\n",
       "      <td>no</td>\n",
       "      <td>Northeast</td>\n",
       "      <td>2205.9808</td>\n",
       "    </tr>\n",
       "    <tr>\n",
       "      <th>1335</th>\n",
       "      <td>18.0</td>\n",
       "      <td>female</td>\n",
       "      <td>36.85</td>\n",
       "      <td>0.0</td>\n",
       "      <td>no</td>\n",
       "      <td>southeast</td>\n",
       "      <td>$1629.8335</td>\n",
       "    </tr>\n",
       "    <tr>\n",
       "      <th>1336</th>\n",
       "      <td>21.0</td>\n",
       "      <td>female</td>\n",
       "      <td>25.80</td>\n",
       "      <td>0.0</td>\n",
       "      <td>no</td>\n",
       "      <td>southwest</td>\n",
       "      <td>2007.945</td>\n",
       "    </tr>\n",
       "    <tr>\n",
       "      <th>1337</th>\n",
       "      <td>61.0</td>\n",
       "      <td>female</td>\n",
       "      <td>29.07</td>\n",
       "      <td>0.0</td>\n",
       "      <td>yes</td>\n",
       "      <td>northwest</td>\n",
       "      <td>29141.3603</td>\n",
       "    </tr>\n",
       "  </tbody>\n",
       "</table>\n",
       "</div>"
      ],
      "text/plain": [
       "       age     sex    bmi  children smoker     region      charges\n",
       "1333  50.0    male  30.97       3.0     no  Northwest  $10600.5483\n",
       "1334 -18.0  female  31.92       0.0     no  Northeast    2205.9808\n",
       "1335  18.0  female  36.85       0.0     no  southeast   $1629.8335\n",
       "1336  21.0  female  25.80       0.0     no  southwest     2007.945\n",
       "1337  61.0  female  29.07       0.0    yes  northwest   29141.3603"
      ]
     },
     "execution_count": 1,
     "metadata": {},
     "output_type": "execute_result"
    }
   ],
   "source": [
    "import pandas as pd\n",
    "import numpy as np\n",
    "from sklearn.preprocessing import StandardScaler\n",
    "from sklearn.model_selection import cross_val_score\n",
    "\n",
    "insurance_data_path = 'insurance.csv'\n",
    "insurance = pd.read_csv(insurance_data_path)\n",
    "insurance.tail()"
   ]
  },
  {
   "cell_type": "code",
   "execution_count": 2,
   "id": "c081ae78-890d-410f-bd45-6bd9dae4db89",
   "metadata": {},
   "outputs": [
    {
     "data": {
      "text/plain": [
       "age         66\n",
       "sex         66\n",
       "bmi         66\n",
       "children    66\n",
       "smoker      66\n",
       "region      66\n",
       "charges     54\n",
       "dtype: int64"
      ]
     },
     "execution_count": 2,
     "metadata": {},
     "output_type": "execute_result"
    }
   ],
   "source": [
    "insurance.isna().sum()"
   ]
  },
  {
   "cell_type": "code",
   "execution_count": 3,
   "id": "ee316411-53b4-4327-adcd-9b114369c044",
   "metadata": {},
   "outputs": [
    {
     "data": {
      "text/plain": [
       "age         0\n",
       "sex         0\n",
       "bmi         0\n",
       "children    0\n",
       "smoker      0\n",
       "region      0\n",
       "charges     0\n",
       "dtype: int64"
      ]
     },
     "execution_count": 3,
     "metadata": {},
     "output_type": "execute_result"
    }
   ],
   "source": [
    "insurance = insurance.dropna()\n",
    "insurance.isna().sum()"
   ]
  },
  {
   "cell_type": "code",
   "execution_count": 4,
   "id": "8bfdd595-b606-417a-815f-d859244a69bb",
   "metadata": {},
   "outputs": [
    {
     "data": {
      "text/plain": [
       "0       16884.924\n",
       "1       1725.5523\n",
       "2       $4449.462\n",
       "3    $21984.47061\n",
       "4      $3866.8552\n",
       "Name: charges, dtype: object"
      ]
     },
     "execution_count": 4,
     "metadata": {},
     "output_type": "execute_result"
    }
   ],
   "source": [
    "insurance[\"charges\"].head()"
   ]
  },
  {
   "cell_type": "code",
   "execution_count": 5,
   "id": "df72bea1-dcbc-451d-971f-6c81da1038b7",
   "metadata": {},
   "outputs": [
    {
     "data": {
      "text/plain": [
       "array(['southwest', 'Southeast', 'southeast', 'northwest', 'Northwest',\n",
       "       'Northeast', 'northeast', 'Southwest'], dtype=object)"
      ]
     },
     "execution_count": 5,
     "metadata": {},
     "output_type": "execute_result"
    }
   ],
   "source": [
    "insurance[\"region\"].unique()"
   ]
  },
  {
   "cell_type": "code",
   "execution_count": 6,
   "id": "72890594-11ef-42c5-b045-6bc413d00b6a",
   "metadata": {},
   "outputs": [
    {
     "data": {
      "text/plain": [
       "array(['female', 'male', 'woman', 'F', 'man', 'M'], dtype=object)"
      ]
     },
     "execution_count": 6,
     "metadata": {},
     "output_type": "execute_result"
    }
   ],
   "source": [
    "insurance[\"sex\"].unique()"
   ]
  },
  {
   "cell_type": "code",
   "execution_count": 7,
   "id": "a1eb1cd0-2845-4a83-aa04-268164f0c2a2",
   "metadata": {},
   "outputs": [
    {
     "data": {
      "text/plain": [
       "array(['yes', 'no'], dtype=object)"
      ]
     },
     "execution_count": 7,
     "metadata": {},
     "output_type": "execute_result"
    }
   ],
   "source": [
    "insurance[\"smoker\"].unique()"
   ]
  },
  {
   "cell_type": "code",
   "execution_count": 8,
   "id": "2f8b96d1-1b2e-47c5-8f18-ed6dad9659be",
   "metadata": {
    "collapsed": false,
    "executionCancelledAt": null,
    "executionTime": 49,
    "jupyter": {
     "outputs_hidden": false,
     "source_hidden": false
    },
    "lastExecutedAt": 1735109522486,
    "lastExecutedByKernel": "8886d8c7-8940-491d-8b06-4a75ef2b6ee0",
    "lastScheduledRunId": null,
    "lastSuccessfullyExecutedCode": "def clean_target_variable(value):\n    if isinstance(value, str):\n        value = value.replace('$', '')\n    return float(value)\n\ninsurance['charges'] = insurance['charges'].apply(clean_target_variable)",
    "outputsMetadata": {
     "0": {
      "height": 550,
      "tableState": {
       "customFilter": {
        "const": {
         "type": "boolean",
         "valid": true,
         "value": true
        },
        "id": "360badae-13ea-4512-9240-44ba8a223249",
        "nodeType": "const"
       },
       "quickFilterText": ""
      },
      "type": "dataFrame"
     }
    }
   },
   "outputs": [
    {
     "data": {
      "text/plain": [
       "(1149, 7)"
      ]
     },
     "execution_count": 8,
     "metadata": {},
     "output_type": "execute_result"
    }
   ],
   "source": [
    "def clean_data():\n",
    "    global insurance\n",
    "    \n",
    "    def clean_target_variable(value):\n",
    "        if isinstance(value, str):\n",
    "            value = value.replace('$', '')\n",
    "        return float(value)\n",
    "    \n",
    "    def handle_negative(value):\n",
    "        if value < 0 or isinstance(value, str):\n",
    "            value = 0.0\n",
    "        return float(value)\n",
    "    \n",
    "    def handle_gender(value):\n",
    "        value = value.replace(\"F\", \"female\").replace(\"woman\", \"female\")\n",
    "        value = value.replace(\"M\", \"male\").replace(\"man\", \"male\")\n",
    "        return value\n",
    "    \n",
    "    insurance['charges'] = insurance['charges'].apply(clean_target_variable)\n",
    "    insurance[\"region\"] = insurance[\"region\"].apply(lambda x: x.lower())\n",
    "    insurance = insurance[insurance[\"age\"] > 0]\n",
    "    insurance[\"children\"] = insurance[\"children\"].apply(handle_negative)\n",
    "    insurance[\"sex\"] = insurance[\"sex\"].apply(handle_gender)\n",
    "\n",
    "clean_data()\n",
    "insurance.shape"
   ]
  },
  {
   "cell_type": "code",
   "execution_count": 9,
   "id": "7988e0e1-18f8-4f8f-9425-16aea67c7950",
   "metadata": {
    "executionCancelledAt": null,
    "executionTime": 52,
    "lastExecutedAt": 1735109522638,
    "lastExecutedByKernel": "8886d8c7-8940-491d-8b06-4a75ef2b6ee0",
    "lastScheduledRunId": null,
    "lastSuccessfullyExecutedCode": "X = insurance.iloc[:, 1:-1]\ny = insurance.iloc[:, -1]",
    "outputsMetadata": {
     "0": {
      "height": 550,
      "tableState": {
       "customFilter": {
        "const": {
         "type": "boolean",
         "valid": true,
         "value": true
        },
        "id": "360badae-13ea-4512-9240-44ba8a223249",
        "nodeType": "const"
       },
       "quickFilterText": ""
      },
      "type": "dataFrame"
     }
    }
   },
   "outputs": [
    {
     "data": {
      "text/html": [
       "<div>\n",
       "<style scoped>\n",
       "    .dataframe tbody tr th:only-of-type {\n",
       "        vertical-align: middle;\n",
       "    }\n",
       "\n",
       "    .dataframe tbody tr th {\n",
       "        vertical-align: top;\n",
       "    }\n",
       "\n",
       "    .dataframe thead th {\n",
       "        text-align: right;\n",
       "    }\n",
       "</style>\n",
       "<table border=\"1\" class=\"dataframe\">\n",
       "  <thead>\n",
       "    <tr style=\"text-align: right;\">\n",
       "      <th></th>\n",
       "      <th>sex</th>\n",
       "      <th>bmi</th>\n",
       "      <th>children</th>\n",
       "      <th>smoker</th>\n",
       "      <th>region</th>\n",
       "    </tr>\n",
       "  </thead>\n",
       "  <tbody>\n",
       "    <tr>\n",
       "      <th>0</th>\n",
       "      <td>female</td>\n",
       "      <td>27.900</td>\n",
       "      <td>0.0</td>\n",
       "      <td>yes</td>\n",
       "      <td>southwest</td>\n",
       "    </tr>\n",
       "    <tr>\n",
       "      <th>1</th>\n",
       "      <td>male</td>\n",
       "      <td>33.770</td>\n",
       "      <td>1.0</td>\n",
       "      <td>no</td>\n",
       "      <td>southeast</td>\n",
       "    </tr>\n",
       "    <tr>\n",
       "      <th>2</th>\n",
       "      <td>male</td>\n",
       "      <td>33.000</td>\n",
       "      <td>3.0</td>\n",
       "      <td>no</td>\n",
       "      <td>southeast</td>\n",
       "    </tr>\n",
       "    <tr>\n",
       "      <th>3</th>\n",
       "      <td>male</td>\n",
       "      <td>22.705</td>\n",
       "      <td>0.0</td>\n",
       "      <td>no</td>\n",
       "      <td>northwest</td>\n",
       "    </tr>\n",
       "    <tr>\n",
       "      <th>4</th>\n",
       "      <td>male</td>\n",
       "      <td>28.880</td>\n",
       "      <td>0.0</td>\n",
       "      <td>no</td>\n",
       "      <td>northwest</td>\n",
       "    </tr>\n",
       "  </tbody>\n",
       "</table>\n",
       "</div>"
      ],
      "text/plain": [
       "      sex     bmi  children smoker     region\n",
       "0  female  27.900       0.0    yes  southwest\n",
       "1    male  33.770       1.0     no  southeast\n",
       "2    male  33.000       3.0     no  southeast\n",
       "3    male  22.705       0.0     no  northwest\n",
       "4    male  28.880       0.0     no  northwest"
      ]
     },
     "execution_count": 9,
     "metadata": {},
     "output_type": "execute_result"
    }
   ],
   "source": [
    "X = insurance.iloc[:, 1:-1]\n",
    "y = insurance.iloc[:, -1]\n",
    "X.head()"
   ]
  },
  {
   "cell_type": "code",
   "execution_count": 10,
   "id": "24ba0554-62a9-4e89-86d5-2071a22dfae4",
   "metadata": {
    "executionCancelledAt": null,
    "executionTime": 52,
    "lastExecutedAt": 1735109522690,
    "lastExecutedByKernel": "8886d8c7-8940-491d-8b06-4a75ef2b6ee0",
    "lastScheduledRunId": null,
    "lastSuccessfullyExecutedCode": "from sklearn.model_selection import train_test_split\n\nX_train, X_test, y_train, y_test = train_test_split(X, y, test_size=0.2)"
   },
   "outputs": [],
   "source": [
    "from sklearn.model_selection import train_test_split\n",
    "\n",
    "X_train, X_test, y_train, y_test = train_test_split(X, y, test_size=0.2)"
   ]
  },
  {
   "cell_type": "code",
   "execution_count": 11,
   "id": "5664718f-003c-4269-92c0-aab3ae558d46",
   "metadata": {
    "executionCancelledAt": null,
    "executionTime": 48,
    "lastExecutedAt": 1735109522738,
    "lastExecutedByKernel": "8886d8c7-8940-491d-8b06-4a75ef2b6ee0",
    "lastScheduledRunId": null,
    "lastSuccessfullyExecutedCode": "from sklearn.compose import ColumnTransformer\nfrom sklearn.preprocessing import OneHotEncoder, LabelEncoder\n\ncategorical_columns = ['sex', 'region', 'smoker']\npreprocessor = ColumnTransformer(\n    transformers=[\n        ('cat', OneHotEncoder(), categorical_columns) \n    ],\n    remainder='passthrough'\n)",
    "outputsMetadata": {
     "0": {
      "height": 50,
      "tableState": {
       "customFilter": {
        "const": {
         "type": "boolean",
         "valid": true,
         "value": true
        },
        "id": "360badae-13ea-4512-9240-44ba8a223249",
        "nodeType": "const"
       },
       "quickFilterText": ""
      },
      "type": "dataFrame"
     }
    }
   },
   "outputs": [],
   "source": [
    "from sklearn.compose import ColumnTransformer\n",
    "from sklearn.preprocessing import OneHotEncoder, LabelEncoder\n",
    "\n",
    "categorical_columns = ['sex', 'region', 'smoker']\n",
    "preprocessor = ColumnTransformer(\n",
    "    transformers=[\n",
    "        ('cat', OneHotEncoder(), categorical_columns) \n",
    "    ],\n",
    "    remainder='passthrough'\n",
    ")"
   ]
  },
  {
   "cell_type": "code",
   "execution_count": 12,
   "id": "56442b57-aaf1-4b2c-acf7-d79d0b05cc78",
   "metadata": {
    "executionCancelledAt": null,
    "executionTime": 51,
    "lastExecutedAt": 1735109522790,
    "lastExecutedByKernel": "8886d8c7-8940-491d-8b06-4a75ef2b6ee0",
    "lastScheduledRunId": null,
    "lastSuccessfullyExecutedCode": "from sklearn.linear_model import LinearRegression, Lasso, Ridge, ElasticNet\nfrom sklearn.svm import SVR\nfrom sklearn.tree import DecisionTreeRegressor\nfrom sklearn.ensemble import RandomForestRegressor, ExtraTreesRegressor, BaggingRegressor\n\nlr = LinearRegression()\nlasso = Lasso()\nridge = Ridge()\nen = ElasticNet()\nsvr = SVR()\ndt = DecisionTreeRegressor(max_depth=5)\nbr = BaggingRegressor(base_estimator=dt, n_estimators=300)\nrf = RandomForestRegressor(n_estimators=300)\net = ExtraTreesRegressor(n_estimators=300)\n\nregressors = [('linear_regression', lr),\n             ('lasso_regression', lasso),\n             ('ridge_regression', ridge),\n             ('elasticnet_regression', en),\n             ('support_vector_regression', svr),\n             ('decision_tree_regression', dt),\n             ('bagging_regression', br),\n             ('random_forest_regression', rf),\n             ('extra_trees_regression', et)]"
   },
   "outputs": [],
   "source": [
    "from sklearn.linear_model import LinearRegression, Lasso, Ridge, ElasticNet\n",
    "from sklearn.svm import SVR\n",
    "from sklearn.tree import DecisionTreeRegressor\n",
    "from sklearn.ensemble import RandomForestRegressor, ExtraTreesRegressor, BaggingRegressor\n",
    "\n",
    "lr = LinearRegression()\n",
    "lasso = Lasso()\n",
    "ridge = Ridge()\n",
    "en = ElasticNet()\n",
    "svr = SVR()\n",
    "dt = DecisionTreeRegressor(max_depth=5)\n",
    "br = BaggingRegressor(estimator=dt, n_estimators=300)\n",
    "rf = RandomForestRegressor(n_estimators=300)\n",
    "et = ExtraTreesRegressor(n_estimators=300)\n",
    "\n",
    "regressors = [('linear_regression', lr),\n",
    "             ('lasso_regression', lasso),\n",
    "             ('ridge_regression', ridge),\n",
    "             ('elasticnet_regression', en),\n",
    "             ('support_vector_regression', svr),\n",
    "             ('decision_tree_regression', dt),\n",
    "             ('bagging_regression', br),\n",
    "             ('random_forest_regression', rf),\n",
    "             ('extra_trees_regression', et)]"
   ]
  },
  {
   "cell_type": "code",
   "execution_count": 13,
   "id": "dde10423-7b81-4a29-8862-0abc6e98a598",
   "metadata": {
    "executionCancelledAt": null,
    "executionTime": null,
    "lastExecutedAt": null,
    "lastExecutedByKernel": null,
    "lastScheduledRunId": null,
    "lastSuccessfullyExecutedCode": null,
    "outputsMetadata": {
     "0": {
      "height": 616,
      "type": "stream"
     }
    }
   },
   "outputs": [
    {
     "name": "stdout",
     "output_type": "stream",
     "text": [
      "CV Score for linear_regression: 0.6526004947458592\n",
      "R2 Score for linear_regression: 0.6953306367174052\n",
      "RMSE Score for linear_regression: 23155597.766960245\n",
      "\n",
      "CV Score for lasso_regression: 0.6526013228626449\n",
      "R2 Score for lasso_regression: 0.695302395959726\n",
      "RMSE Score for lasso_regression: 23157744.131853685\n",
      "\n",
      "CV Score for ridge_regression: 0.6526217309302373\n",
      "R2 Score for ridge_regression: 0.6953252446137506\n",
      "RMSE Score for ridge_regression: 23156007.57968969\n",
      "\n",
      "CV Score for elasticnet_regression: 0.42626683526975934\n",
      "R2 Score for elasticnet_regression: 0.457297533720067\n",
      "RMSE Score for elasticnet_regression: 41246680.9295142\n",
      "\n",
      "CV Score for support_vector_regression: -0.10452491296824648\n",
      "R2 Score for support_vector_regression: -0.08632381255596933\n",
      "RMSE Score for support_vector_regression: 82563198.92881654\n",
      "\n",
      "CV Score for decision_tree_regression: 0.7408849539113602\n",
      "R2 Score for decision_tree_regression: 0.7814682499297196\n",
      "RMSE Score for decision_tree_regression: 16608933.860027472\n",
      "\n",
      "CV Score for bagging_regression: 0.7621659823132425\n",
      "R2 Score for bagging_regression: 0.7965574161736951\n",
      "RMSE Score for bagging_regression: 15462121.261544412\n",
      "\n",
      "CV Score for random_forest_regression: 0.7145165483770407\n",
      "R2 Score for random_forest_regression: 0.7351121484831724\n",
      "RMSE Score for random_forest_regression: 20132108.056393977\n",
      "\n",
      "CV Score for extra_trees_regression: 0.639648533831384\n",
      "R2 Score for extra_trees_regression: 0.6778082117175852\n",
      "RMSE Score for extra_trees_regression: 24487343.83038447\n",
      "\n"
     ]
    }
   ],
   "source": [
    "from sklearn.metrics import r2_score as r2, mean_squared_error as MSE\n",
    "from sklearn.model_selection import cross_val_score\n",
    "from sklearn.pipeline import Pipeline\n",
    "\n",
    "regressor_names = []\n",
    "r2_scores = []\n",
    "cv_scores = []\n",
    "rmse_scores = []\n",
    "\n",
    "for reg_name, reg in regressors:\n",
    "    pipeline = Pipeline(steps=[\n",
    "        ('preprocessor', preprocessor),\n",
    "        ('model', reg)   \n",
    "    ])\n",
    "    cv_score = np.mean(cross_val_score(pipeline, X, y, cv=10))\n",
    "    \n",
    "    pipeline.fit(X_train, y_train)\n",
    "    y_pred = pipeline.predict(X_test)\n",
    "    r2_score = r2(y_test, y_pred)\n",
    "    rmse = (MSE(y_test, y_pred)) ** 1/2\n",
    "    \n",
    "    regressor_names.append(reg_name)\n",
    "    r2_scores.append(r2_score)\n",
    "    cv_scores.append(cv_score)\n",
    "    rmse_scores.append(rmse)\n",
    "    \n",
    "    print(f\"CV Score for {reg_name}: {cv_score}\")\n",
    "    print(f\"R2 Score for {reg_name}: {r2_score}\")    \n",
    "    print(f\"RMSE Score for {reg_name}: {rmse}\\n\")    "
   ]
  },
  {
   "cell_type": "code",
   "execution_count": 14,
   "id": "6b316374-1118-450d-95e0-0dedf118cebc",
   "metadata": {
    "executionCancelledAt": null,
    "executionTime": null,
    "lastExecutedAt": null,
    "lastExecutedByKernel": null,
    "lastScheduledRunId": null,
    "lastSuccessfullyExecutedCode": null,
    "outputsMetadata": {
     "0": {
      "height": 550,
      "tableState": {
       "customFilter": {
        "const": {
         "type": "boolean",
         "valid": true,
         "value": true
        },
        "id": "d4fac8e8-a6b6-4940-b216-d54476774a04",
        "nodeType": "const"
       },
       "quickFilterText": ""
      },
      "type": "dataFrame"
     }
    }
   },
   "outputs": [
    {
     "data": {
      "text/html": [
       "<div>\n",
       "<style scoped>\n",
       "    .dataframe tbody tr th:only-of-type {\n",
       "        vertical-align: middle;\n",
       "    }\n",
       "\n",
       "    .dataframe tbody tr th {\n",
       "        vertical-align: top;\n",
       "    }\n",
       "\n",
       "    .dataframe thead th {\n",
       "        text-align: right;\n",
       "    }\n",
       "</style>\n",
       "<table border=\"1\" class=\"dataframe\">\n",
       "  <thead>\n",
       "    <tr style=\"text-align: right;\">\n",
       "      <th></th>\n",
       "      <th>Algorithm</th>\n",
       "      <th>R2</th>\n",
       "      <th>RMSE</th>\n",
       "      <th>CV Score</th>\n",
       "    </tr>\n",
       "  </thead>\n",
       "  <tbody>\n",
       "    <tr>\n",
       "      <th>6</th>\n",
       "      <td>bagging_regression</td>\n",
       "      <td>0.796557</td>\n",
       "      <td>1.546212e+07</td>\n",
       "      <td>0.762166</td>\n",
       "    </tr>\n",
       "    <tr>\n",
       "      <th>5</th>\n",
       "      <td>decision_tree_regression</td>\n",
       "      <td>0.781468</td>\n",
       "      <td>1.660893e+07</td>\n",
       "      <td>0.740885</td>\n",
       "    </tr>\n",
       "    <tr>\n",
       "      <th>7</th>\n",
       "      <td>random_forest_regression</td>\n",
       "      <td>0.735112</td>\n",
       "      <td>2.013211e+07</td>\n",
       "      <td>0.714517</td>\n",
       "    </tr>\n",
       "    <tr>\n",
       "      <th>0</th>\n",
       "      <td>linear_regression</td>\n",
       "      <td>0.695331</td>\n",
       "      <td>2.315560e+07</td>\n",
       "      <td>0.652600</td>\n",
       "    </tr>\n",
       "    <tr>\n",
       "      <th>2</th>\n",
       "      <td>ridge_regression</td>\n",
       "      <td>0.695325</td>\n",
       "      <td>2.315601e+07</td>\n",
       "      <td>0.652622</td>\n",
       "    </tr>\n",
       "    <tr>\n",
       "      <th>1</th>\n",
       "      <td>lasso_regression</td>\n",
       "      <td>0.695302</td>\n",
       "      <td>2.315774e+07</td>\n",
       "      <td>0.652601</td>\n",
       "    </tr>\n",
       "    <tr>\n",
       "      <th>8</th>\n",
       "      <td>extra_trees_regression</td>\n",
       "      <td>0.677808</td>\n",
       "      <td>2.448734e+07</td>\n",
       "      <td>0.639649</td>\n",
       "    </tr>\n",
       "    <tr>\n",
       "      <th>3</th>\n",
       "      <td>elasticnet_regression</td>\n",
       "      <td>0.457298</td>\n",
       "      <td>4.124668e+07</td>\n",
       "      <td>0.426267</td>\n",
       "    </tr>\n",
       "    <tr>\n",
       "      <th>4</th>\n",
       "      <td>support_vector_regression</td>\n",
       "      <td>-0.086324</td>\n",
       "      <td>8.256320e+07</td>\n",
       "      <td>-0.104525</td>\n",
       "    </tr>\n",
       "  </tbody>\n",
       "</table>\n",
       "</div>"
      ],
      "text/plain": [
       "                   Algorithm        R2          RMSE  CV Score\n",
       "6         bagging_regression  0.796557  1.546212e+07  0.762166\n",
       "5   decision_tree_regression  0.781468  1.660893e+07  0.740885\n",
       "7   random_forest_regression  0.735112  2.013211e+07  0.714517\n",
       "0          linear_regression  0.695331  2.315560e+07  0.652600\n",
       "2           ridge_regression  0.695325  2.315601e+07  0.652622\n",
       "1           lasso_regression  0.695302  2.315774e+07  0.652601\n",
       "8     extra_trees_regression  0.677808  2.448734e+07  0.639649\n",
       "3      elasticnet_regression  0.457298  4.124668e+07  0.426267\n",
       "4  support_vector_regression -0.086324  8.256320e+07 -0.104525"
      ]
     },
     "execution_count": 14,
     "metadata": {},
     "output_type": "execute_result"
    }
   ],
   "source": [
    "performance_df = pd.DataFrame({'Algorithm':regressor_names,'R2':r2_scores, 'RMSE': rmse_scores, \n",
    "                               'CV Score':cv_scores}).sort_values('R2',ascending=False)\n",
    "performance_df"
   ]
  },
  {
   "cell_type": "code",
   "execution_count": 15,
   "id": "929587ea-f682-49f2-bcdf-9ea4030a5751",
   "metadata": {
    "executionCancelledAt": null,
    "executionTime": 51,
    "lastExecutedAt": 1735109517854,
    "lastExecutedByKernel": "8886d8c7-8940-491d-8b06-4a75ef2b6ee0",
    "lastScheduledRunId": null,
    "lastSuccessfullyExecutedCode": "# from sklearn.ensemble import VotingRegressor\n\n# vc = VotingRegressor(estimators=regressors)\n# pipeline = Pipeline(steps=[\n#         ('preprocessor', preprocessor),\n#         ('vc', vc)   \n# ])\n\n# cv_score = np.mean(cross_val_score(pipeline, X, y, cv=10))\n    \n# pipeline.fit(X_train, y_train)\n# y_pred = pipeline.predict(X_test)\n# r2_score = r2(y_test, y_pred)\n# rmse = (MSE(y_test, y_pred)) ** 1/2\n    \n# print(f\"CV Score for Voting Regressor: {cv_score}\")\n# print(f\"R2 Score for Voting Regressor: {r2_score}\")   \n# print(f\"RMSE Score for Voting Regressor: {rmse}\\n\")    ",
    "outputsMetadata": {
     "0": {
      "height": 101,
      "type": "stream"
     }
    }
   },
   "outputs": [
    {
     "name": "stdout",
     "output_type": "stream",
     "text": [
      "CV Score for Voting Regressor: 0.7095121199771564\n",
      "R2 Score for Voting Regressor: 0.7509952471875672\n",
      "RMSE Score for Voting Regressor: 18924954.698638227\n",
      "\n"
     ]
    }
   ],
   "source": [
    "from sklearn.ensemble import VotingRegressor\n",
    "\n",
    "vc = VotingRegressor(estimators=regressors)\n",
    "pipeline = Pipeline(steps=[\n",
    "        ('preprocessor', preprocessor),\n",
    "        ('vc', vc)   \n",
    "])\n",
    "\n",
    "cv_score = np.mean(cross_val_score(pipeline, X, y, cv=10))\n",
    "    \n",
    "pipeline.fit(X_train, y_train)\n",
    "y_pred = pipeline.predict(X_test)\n",
    "r2_score = r2(y_test, y_pred)\n",
    "rmse = (MSE(y_test, y_pred)) ** 1/2\n",
    "    \n",
    "print(f\"CV Score for Voting Regressor: {cv_score}\")\n",
    "print(f\"R2 Score for Voting Regressor: {r2_score}\")   \n",
    "print(f\"RMSE Score for Voting Regressor: {rmse}\\n\")    "
   ]
  },
  {
   "cell_type": "code",
   "execution_count": 16,
   "id": "bf309e64-8352-4764-8b50-bb51bd2316d2",
   "metadata": {
    "executionCancelledAt": null,
    "executionTime": null,
    "lastExecutedAt": null,
    "lastExecutedByKernel": null,
    "lastScheduledRunId": null,
    "lastSuccessfullyExecutedCode": null,
    "outputsMetadata": {
     "0": {
      "height": 38,
      "type": "stream"
     }
    }
   },
   "outputs": [
    {
     "name": "stdout",
     "output_type": "stream",
     "text": [
      "R2 Score for Bagging Regressor (Final Model): 0.7952270496136279\n"
     ]
    }
   ],
   "source": [
    "final_model = Pipeline(steps=[\n",
    "        ('preprocessor', preprocessor),\n",
    "        ('br', br)   \n",
    "])\n",
    "\n",
    "final_model.fit(X_train, y_train)\n",
    "y_pred = final_model.predict(X_test)\n",
    "r2_score = r2(y_test, y_pred)\n",
    "\n",
    "print(f\"R2 Score for Bagging Regressor (Final Model): {r2_score}\")   "
   ]
  },
  {
   "cell_type": "code",
   "execution_count": 17,
   "id": "92e3d166-29b9-42c9-af63-9235111f5a67",
   "metadata": {
    "executionCancelledAt": null,
    "executionTime": null,
    "lastExecutedAt": null,
    "lastExecutedByKernel": null,
    "lastScheduledRunId": null,
    "lastSuccessfullyExecutedCode": null,
    "outputsMetadata": {
     "0": {
      "height": 550,
      "tableState": {
       "customFilter": {
        "const": {
         "type": "boolean",
         "valid": true,
         "value": true
        },
        "id": "d4fac8e8-a6b6-4940-b216-d54476774a04",
        "nodeType": "const"
       },
       "quickFilterText": ""
      },
      "type": "dataFrame"
     }
    }
   },
   "outputs": [
    {
     "data": {
      "text/html": [
       "<div>\n",
       "<style scoped>\n",
       "    .dataframe tbody tr th:only-of-type {\n",
       "        vertical-align: middle;\n",
       "    }\n",
       "\n",
       "    .dataframe tbody tr th {\n",
       "        vertical-align: top;\n",
       "    }\n",
       "\n",
       "    .dataframe thead th {\n",
       "        text-align: right;\n",
       "    }\n",
       "</style>\n",
       "<table border=\"1\" class=\"dataframe\">\n",
       "  <thead>\n",
       "    <tr style=\"text-align: right;\">\n",
       "      <th></th>\n",
       "      <th>age</th>\n",
       "      <th>sex</th>\n",
       "      <th>bmi</th>\n",
       "      <th>children</th>\n",
       "      <th>smoker</th>\n",
       "      <th>region</th>\n",
       "    </tr>\n",
       "  </thead>\n",
       "  <tbody>\n",
       "    <tr>\n",
       "      <th>0</th>\n",
       "      <td>18.0</td>\n",
       "      <td>female</td>\n",
       "      <td>24.090000</td>\n",
       "      <td>1.0</td>\n",
       "      <td>no</td>\n",
       "      <td>southeast</td>\n",
       "    </tr>\n",
       "    <tr>\n",
       "      <th>1</th>\n",
       "      <td>39.0</td>\n",
       "      <td>male</td>\n",
       "      <td>26.410000</td>\n",
       "      <td>0.0</td>\n",
       "      <td>yes</td>\n",
       "      <td>northeast</td>\n",
       "    </tr>\n",
       "    <tr>\n",
       "      <th>2</th>\n",
       "      <td>27.0</td>\n",
       "      <td>male</td>\n",
       "      <td>29.150000</td>\n",
       "      <td>0.0</td>\n",
       "      <td>yes</td>\n",
       "      <td>southeast</td>\n",
       "    </tr>\n",
       "    <tr>\n",
       "      <th>3</th>\n",
       "      <td>71.0</td>\n",
       "      <td>male</td>\n",
       "      <td>65.502135</td>\n",
       "      <td>13.0</td>\n",
       "      <td>yes</td>\n",
       "      <td>southeast</td>\n",
       "    </tr>\n",
       "    <tr>\n",
       "      <th>4</th>\n",
       "      <td>28.0</td>\n",
       "      <td>male</td>\n",
       "      <td>38.060000</td>\n",
       "      <td>0.0</td>\n",
       "      <td>no</td>\n",
       "      <td>southeast</td>\n",
       "    </tr>\n",
       "  </tbody>\n",
       "</table>\n",
       "</div>"
      ],
      "text/plain": [
       "    age     sex        bmi  children smoker     region\n",
       "0  18.0  female  24.090000       1.0     no  southeast\n",
       "1  39.0    male  26.410000       0.0    yes  northeast\n",
       "2  27.0    male  29.150000       0.0    yes  southeast\n",
       "3  71.0    male  65.502135      13.0    yes  southeast\n",
       "4  28.0    male  38.060000       0.0     no  southeast"
      ]
     },
     "execution_count": 17,
     "metadata": {},
     "output_type": "execute_result"
    }
   ],
   "source": [
    "validation_data_path = 'validation_dataset.csv'\n",
    "validation_data = pd.read_csv(validation_data_path)\n",
    "validation_data.head()"
   ]
  },
  {
   "cell_type": "code",
   "execution_count": 18,
   "id": "019ae2d3-906a-4198-962f-cdd584368524",
   "metadata": {
    "executionCancelledAt": null,
    "executionTime": null,
    "lastExecutedAt": null,
    "lastExecutedByKernel": null,
    "lastScheduledRunId": null,
    "lastSuccessfullyExecutedCode": null,
    "outputsMetadata": {
     "0": {
      "height": 550,
      "tableState": {
       "customFilter": {
        "const": {
         "type": "boolean",
         "valid": true,
         "value": true
        },
        "id": "d4fac8e8-a6b6-4940-b216-d54476774a04",
        "nodeType": "const"
       },
       "quickFilterText": ""
      },
      "type": "dataFrame"
     }
    }
   },
   "outputs": [
    {
     "data": {
      "text/plain": [
       "age         0\n",
       "sex         0\n",
       "bmi         0\n",
       "children    0\n",
       "smoker      0\n",
       "region      0\n",
       "dtype: int64"
      ]
     },
     "execution_count": 18,
     "metadata": {},
     "output_type": "execute_result"
    }
   ],
   "source": [
    "validation_data.isna().sum()"
   ]
  },
  {
   "cell_type": "code",
   "execution_count": 19,
   "id": "625333ef-ef61-4254-9ce1-6b56d77dd91e",
   "metadata": {
    "executionCancelledAt": null,
    "executionTime": 83,
    "lastExecutedAt": 1735109518797,
    "lastExecutedByKernel": "8886d8c7-8940-491d-8b06-4a75ef2b6ee0",
    "lastScheduledRunId": null,
    "lastSuccessfullyExecutedCode": "y_pred = final_model.predict(validation_data)\ny_pred"
   },
   "outputs": [
    {
     "data": {
      "text/plain": [
       "array([ 8015.63535416, 22583.97188572, 20947.3402259 , 56566.20579447,\n",
       "        8526.49678315, 56291.69880382, 10939.16804046,  9704.11950308,\n",
       "        8590.37418201, 10434.9023138 ,  7605.84160185, 12057.14533   ,\n",
       "        8001.0319509 ,  7819.12690538,  7677.19943585, 10101.11161476,\n",
       "        9479.54792112, 56291.69880382, 56249.09928316,  8452.80596499,\n",
       "        8261.88650706, 12342.4318098 , 43576.73854539,  9266.63871633,\n",
       "       10331.18606744,  7734.70215809, 56460.79892123,  7206.68635976,\n",
       "        9502.60263425,  8379.81341839,  9753.67286946, 39445.29165329,\n",
       "       17655.4851531 ,  7353.60044542, 22163.77804918,  9085.02413528,\n",
       "       56785.57662799,  8530.35286918,  8887.00252601,  9549.17056285,\n",
       "       41404.68162847, 10954.73108889,  8082.37622732, 56785.57662799,\n",
       "        9569.15891186, 43440.41938278, 56688.62921827, 43067.95098298,\n",
       "        8818.37552176, 43037.27703749])"
      ]
     },
     "execution_count": 19,
     "metadata": {},
     "output_type": "execute_result"
    }
   ],
   "source": [
    "y_pred = final_model.predict(validation_data)\n",
    "y_pred"
   ]
  },
  {
   "cell_type": "code",
   "execution_count": 20,
   "id": "bc74c02a-ce37-4d31-99d6-96b1fe52be71",
   "metadata": {
    "executionCancelledAt": null,
    "executionTime": 49,
    "lastExecutedAt": 1735109518846,
    "lastExecutedByKernel": "8886d8c7-8940-491d-8b06-4a75ef2b6ee0",
    "lastScheduledRunId": null,
    "lastSuccessfullyExecutedCode": "validation_data[\"predicted_charges\"] = y_pred\nvalidation_data.head()",
    "outputsMetadata": {
     "0": {
      "height": 550,
      "tableState": {
       "customFilter": {
        "const": {
         "type": "boolean",
         "valid": true,
         "value": true
        },
        "id": "d4fac8e8-a6b6-4940-b216-d54476774a04",
        "nodeType": "const"
       },
       "quickFilterText": ""
      },
      "type": "dataFrame"
     }
    }
   },
   "outputs": [
    {
     "data": {
      "text/html": [
       "<div>\n",
       "<style scoped>\n",
       "    .dataframe tbody tr th:only-of-type {\n",
       "        vertical-align: middle;\n",
       "    }\n",
       "\n",
       "    .dataframe tbody tr th {\n",
       "        vertical-align: top;\n",
       "    }\n",
       "\n",
       "    .dataframe thead th {\n",
       "        text-align: right;\n",
       "    }\n",
       "</style>\n",
       "<table border=\"1\" class=\"dataframe\">\n",
       "  <thead>\n",
       "    <tr style=\"text-align: right;\">\n",
       "      <th></th>\n",
       "      <th>age</th>\n",
       "      <th>sex</th>\n",
       "      <th>bmi</th>\n",
       "      <th>children</th>\n",
       "      <th>smoker</th>\n",
       "      <th>region</th>\n",
       "      <th>predicted_charges</th>\n",
       "    </tr>\n",
       "  </thead>\n",
       "  <tbody>\n",
       "    <tr>\n",
       "      <th>0</th>\n",
       "      <td>18.0</td>\n",
       "      <td>female</td>\n",
       "      <td>24.090000</td>\n",
       "      <td>1.0</td>\n",
       "      <td>no</td>\n",
       "      <td>southeast</td>\n",
       "      <td>8015.635354</td>\n",
       "    </tr>\n",
       "    <tr>\n",
       "      <th>1</th>\n",
       "      <td>39.0</td>\n",
       "      <td>male</td>\n",
       "      <td>26.410000</td>\n",
       "      <td>0.0</td>\n",
       "      <td>yes</td>\n",
       "      <td>northeast</td>\n",
       "      <td>22583.971886</td>\n",
       "    </tr>\n",
       "    <tr>\n",
       "      <th>2</th>\n",
       "      <td>27.0</td>\n",
       "      <td>male</td>\n",
       "      <td>29.150000</td>\n",
       "      <td>0.0</td>\n",
       "      <td>yes</td>\n",
       "      <td>southeast</td>\n",
       "      <td>20947.340226</td>\n",
       "    </tr>\n",
       "    <tr>\n",
       "      <th>3</th>\n",
       "      <td>71.0</td>\n",
       "      <td>male</td>\n",
       "      <td>65.502135</td>\n",
       "      <td>13.0</td>\n",
       "      <td>yes</td>\n",
       "      <td>southeast</td>\n",
       "      <td>56566.205794</td>\n",
       "    </tr>\n",
       "    <tr>\n",
       "      <th>4</th>\n",
       "      <td>28.0</td>\n",
       "      <td>male</td>\n",
       "      <td>38.060000</td>\n",
       "      <td>0.0</td>\n",
       "      <td>no</td>\n",
       "      <td>southeast</td>\n",
       "      <td>8526.496783</td>\n",
       "    </tr>\n",
       "  </tbody>\n",
       "</table>\n",
       "</div>"
      ],
      "text/plain": [
       "    age     sex        bmi  children smoker     region  predicted_charges\n",
       "0  18.0  female  24.090000       1.0     no  southeast        8015.635354\n",
       "1  39.0    male  26.410000       0.0    yes  northeast       22583.971886\n",
       "2  27.0    male  29.150000       0.0    yes  southeast       20947.340226\n",
       "3  71.0    male  65.502135      13.0    yes  southeast       56566.205794\n",
       "4  28.0    male  38.060000       0.0     no  southeast        8526.496783"
      ]
     },
     "execution_count": 20,
     "metadata": {},
     "output_type": "execute_result"
    }
   ],
   "source": [
    "validation_data[\"predicted_charges\"] = y_pred\n",
    "validation_data.head()"
   ]
  }
 ],
 "metadata": {
  "colab": {
   "name": "Welcome to DataCamp Workspaces.ipynb",
   "provenance": []
  },
  "kernelspec": {
   "display_name": "Python 3 (ipykernel)",
   "language": "python",
   "name": "python3"
  },
  "language_info": {
   "codemirror_mode": {
    "name": "ipython",
    "version": 3
   },
   "file_extension": ".py",
   "mimetype": "text/x-python",
   "name": "python",
   "nbconvert_exporter": "python",
   "pygments_lexer": "ipython3",
   "version": "3.12.7"
  }
 },
 "nbformat": 4,
 "nbformat_minor": 5
}
